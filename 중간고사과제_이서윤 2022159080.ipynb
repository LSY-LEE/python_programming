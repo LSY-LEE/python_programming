{
 "cells": [
  {
   "cell_type": "markdown",
   "id": "4178e4c9",
   "metadata": {},
   "source": [
    "# 중간고사"
   ]
  },
  {
   "cell_type": "markdown",
   "id": "e9dc7519",
   "metadata": {},
   "source": [
    "#### 1. 키와 몸무게를 입력하면 BMI를 계산하는 프로그램을 작성하시오 (반복문을 사용해서 계속 몸무게/키를 입력받음. 종료는 -1000을 입력하면 종료하도록 함)"
   ]
  },
  {
   "cell_type": "code",
   "execution_count": 1,
   "id": "ea56345c",
   "metadata": {},
   "outputs": [],
   "source": [
    "def bmi_calculator(height, weight):\n",
    "    BMI = weight / ((height/100) * (height/100))\n",
    "    result = '저체중'\n",
    "    #print(\"BMI:\",BMI, \"H:\",height,\"W:\",weight)\n",
    "    \n",
    "    if BMI < 18.5 :\n",
    "        result = '저체중'\n",
    "    elif BMI >= 18.5 and BMI < 22.9 :\n",
    "        result = '정상체중'\n",
    "    elif BMI >= 23.0 and BMI < 24.9 :\n",
    "        result = '과체중'\n",
    "    elif BMI >= 25.0 and BMI < 29.9 :\n",
    "        result = '비만'\n",
    "    else:\n",
    "        result = '고도비만'\n",
    "        \n",
    "    return result"
   ]
  },
  {
   "cell_type": "code",
   "execution_count": 2,
   "id": "6e137d8e",
   "metadata": {},
   "outputs": [],
   "source": [
    "def assignment1():\n",
    "    run = 1\n",
    "    while(run == 1):\n",
    "        height = input(\"키를 입력하세요: \")\n",
    "        if int(height) == -1000:\n",
    "            print(\"종료\")\n",
    "            break\n",
    "            \n",
    "        weight = input(\"몸무게를 입력하세요: \")\n",
    "        if int(weight) == -1000:\n",
    "            print(\"종료\")\n",
    "            break\n",
    "        print(bmi_calculator(int(height), int(weight)))"
   ]
  },
  {
   "cell_type": "code",
   "execution_count": 3,
   "id": "4aaf2465",
   "metadata": {},
   "outputs": [
    {
     "name": "stdout",
     "output_type": "stream",
     "text": [
      "키를 입력하세요: 160\n",
      "몸무게를 입력하세요: 55\n",
      "정상체중\n",
      "키를 입력하세요: -1000\n",
      "종료\n"
     ]
    }
   ],
   "source": [
    "assignment1()"
   ]
  },
  {
   "cell_type": "code",
   "execution_count": null,
   "id": "9a15bf18",
   "metadata": {},
   "outputs": [],
   "source": []
  },
  {
   "cell_type": "markdown",
   "id": "b5ce745b",
   "metadata": {},
   "source": [
    "#### 2. 숫자 2개를 입력받아서 큰수와 작은수를 차례로 출력하는 프로그램을 작성하시오 (반복문을 사용해서 계속 입력받음. 종료는 0을 두번 입력하면 종료하도록 함)"
   ]
  },
  {
   "cell_type": "code",
   "execution_count": 4,
   "id": "27a591f6",
   "metadata": {},
   "outputs": [],
   "source": [
    "def print_big_small_number(num1, num2):\n",
    "    if num1 >= num2:\n",
    "        return num1, num2\n",
    "    else:\n",
    "        return num2, num1"
   ]
  },
  {
   "cell_type": "code",
   "execution_count": 5,
   "id": "c65df194",
   "metadata": {},
   "outputs": [],
   "source": [
    "def assignment2():\n",
    "    run = 1\n",
    "    while(run == 1):\n",
    "        num1 = input(\"첫번째 숫자를 입력하세요: \")\n",
    "        if str(num1) == '00':\n",
    "            print(\"종료\")\n",
    "            break\n",
    "        num2 = input(\"두번째 숫자를 입력하세요: \")\n",
    "        if str(num2) == '00':\n",
    "            print(\"종료\")\n",
    "            break\n",
    "        print(print_big_small_number(int(num1), int(num2)))"
   ]
  },
  {
   "cell_type": "code",
   "execution_count": 6,
   "id": "537a7a0f",
   "metadata": {},
   "outputs": [
    {
     "name": "stdout",
     "output_type": "stream",
     "text": [
      "첫번째 숫자를 입력하세요: 100\n",
      "두번째 숫자를 입력하세요: 90\n",
      "(100, 90)\n",
      "첫번째 숫자를 입력하세요: 90\n",
      "두번째 숫자를 입력하세요: 100\n",
      "(100, 90)\n",
      "첫번째 숫자를 입력하세요: 00\n",
      "종료\n"
     ]
    }
   ],
   "source": [
    "assignment2()"
   ]
  },
  {
   "cell_type": "code",
   "execution_count": null,
   "id": "5e4ac263",
   "metadata": {},
   "outputs": [],
   "source": []
  },
  {
   "cell_type": "markdown",
   "id": "748b4410",
   "metadata": {},
   "source": [
    "### 3. 10명의 학생 이름과 점수를 입력받아 등수를 계산하고, 출력 시에는 이름, 점수를 등수 순서대로 출력하는 프로그램을 작성하시오."
   ]
  },
  {
   "cell_type": "code",
   "execution_count": 7,
   "id": "b38ab1f6",
   "metadata": {},
   "outputs": [],
   "source": [
    "def assignment3():\n",
    "    students = []\n",
    "    \n",
    "    num_of_students = 10\n",
    "    for i in range(num_of_students):\n",
    "        name = input(f\"{i+1}번째 학생의 이름을 입력하세요: \")\n",
    "        score = int(input(f\"{name}의 점수를 입력하세요: \"))\n",
    "        students.append({'name': name, 'score': score})\n",
    "\n",
    "    # sort by score in descending order\n",
    "    students = sorted(students, key=lambda x: x['score'], reverse=True)\n",
    "\n",
    "    # add rank by the sorted list\n",
    "    for i, student in enumerate(students):\n",
    "        student['rank'] = i + 1\n",
    "\n",
    "    print(\"등수  이름  점수\")\n",
    "    for student in students:\n",
    "        print(f\"{student['rank']}등   {student['name']}   {student['score']}\")"
   ]
  },
  {
   "cell_type": "code",
   "execution_count": 8,
   "id": "65254705",
   "metadata": {},
   "outputs": [
    {
     "name": "stdout",
     "output_type": "stream",
     "text": [
      "1번째 학생의 이름을 입력하세요: 사과\n",
      "사과의 점수를 입력하세요: 100\n",
      "2번째 학생의 이름을 입력하세요: 포도\n",
      "포도의 점수를 입력하세요: 95\n",
      "3번째 학생의 이름을 입력하세요: 키위\n",
      "키위의 점수를 입력하세요: 85\n",
      "4번째 학생의 이름을 입력하세요: 참외\n",
      "참외의 점수를 입력하세요: 60\n",
      "5번째 학생의 이름을 입력하세요: 복숭아\n",
      "복숭아의 점수를 입력하세요: 95\n",
      "6번째 학생의 이름을 입력하세요: 자두\n",
      "자두의 점수를 입력하세요: 98\n",
      "7번째 학생의 이름을 입력하세요: 수박\n",
      "수박의 점수를 입력하세요: 70\n",
      "8번째 학생의 이름을 입력하세요: 오렌지\n",
      "오렌지의 점수를 입력하세요: 93\n",
      "9번째 학생의 이름을 입력하세요: 자몽\n",
      "자몽의 점수를 입력하세요: 98\n",
      "10번째 학생의 이름을 입력하세요: 귤\n",
      "귤의 점수를 입력하세요: 65\n",
      "등수  이름  점수\n",
      "1등   사과   100\n",
      "2등   자두   98\n",
      "3등   자몽   98\n",
      "4등   포도   95\n",
      "5등   복숭아   95\n",
      "6등   오렌지   93\n",
      "7등   키위   85\n",
      "8등   수박   70\n",
      "9등   귤   65\n",
      "10등   참외   60\n"
     ]
    }
   ],
   "source": [
    "assignment3()"
   ]
  },
  {
   "cell_type": "code",
   "execution_count": null,
   "id": "153e4a99",
   "metadata": {},
   "outputs": [],
   "source": []
  },
  {
   "cell_type": "code",
   "execution_count": null,
   "id": "d81a26bb",
   "metadata": {},
   "outputs": [],
   "source": []
  },
  {
   "cell_type": "code",
   "execution_count": null,
   "id": "7bc632a9",
   "metadata": {},
   "outputs": [],
   "source": []
  },
  {
   "cell_type": "code",
   "execution_count": null,
   "id": "5eddf583",
   "metadata": {},
   "outputs": [],
   "source": []
  }
 ],
 "metadata": {
  "kernelspec": {
   "display_name": "Python 3 (ipykernel)",
   "language": "python",
   "name": "python3"
  },
  "language_info": {
   "codemirror_mode": {
    "name": "ipython",
    "version": 3
   },
   "file_extension": ".py",
   "mimetype": "text/x-python",
   "name": "python",
   "nbconvert_exporter": "python",
   "pygments_lexer": "ipython3",
   "version": "3.9.13"
  }
 },
 "nbformat": 4,
 "nbformat_minor": 5
}
